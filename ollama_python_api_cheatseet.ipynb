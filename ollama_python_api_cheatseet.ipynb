{
 "cells": [
  {
   "cell_type": "code",
   "execution_count": 20,
   "id": "4f6c161c",
   "metadata": {},
   "outputs": [],
   "source": [
    "import ollama\n",
    "import requests"
   ]
  },
  {
   "cell_type": "code",
   "execution_count": 21,
   "id": "1a832d78",
   "metadata": {},
   "outputs": [
    {
     "name": "stdout",
     "output_type": "stream",
     "text": [
      "ollama version is 0.12.6\n"
     ]
    }
   ],
   "source": [
    "!ollama --version"
   ]
  },
  {
   "cell_type": "code",
   "execution_count": 22,
   "id": "2f6db197",
   "metadata": {},
   "outputs": [
    {
     "data": {
      "text/plain": [
       "ListResponse(models=[Model(model='llama3.1:latest', modified_at=datetime.datetime(2025, 10, 21, 14, 38, 45, 968310, tzinfo=TzInfo(-14400)), digest='46e0c10c039e019119339687c3c1757cc81b9da49709a3b3924863ba87ca666e', size=4920753328, details=ModelDetails(parent_model='', format='gguf', family='llama', families=['llama'], parameter_size='8.0B', quantization_level='Q4_K_M'))])"
      ]
     },
     "execution_count": 22,
     "metadata": {},
     "output_type": "execute_result"
    }
   ],
   "source": [
    "ollama.list()"
   ]
  },
  {
   "cell_type": "code",
   "execution_count": 23,
   "id": "4464b02f",
   "metadata": {},
   "outputs": [
    {
     "name": "stdout",
     "output_type": "stream",
     "text": [
      "\u001b[31mSignature:\u001b[39m\n",
      "ollama.chat(\n",
      "    model: str = \u001b[33m''\u001b[39m,\n",
      "    messages: Optional[Sequence[Union[Mapping[str, Any], ollama._types.Message]]] = \u001b[38;5;28;01mNone\u001b[39;00m,\n",
      "    *,\n",
      "    tools: Optional[Sequence[Union[Mapping[str, Any], ollama._types.Tool, Callable]]] = \u001b[38;5;28;01mNone\u001b[39;00m,\n",
      "    stream: bool = \u001b[38;5;28;01mFalse\u001b[39;00m,\n",
      "    think: Union[bool, Literal[\u001b[33m'low'\u001b[39m, \u001b[33m'medium'\u001b[39m, \u001b[33m'high'\u001b[39m], NoneType] = \u001b[38;5;28;01mNone\u001b[39;00m,\n",
      "    format: Union[Literal[\u001b[33m''\u001b[39m, \u001b[33m'json'\u001b[39m], dict[str, Any], NoneType] = \u001b[38;5;28;01mNone\u001b[39;00m,\n",
      "    options: Union[Mapping[str, Any], ollama._types.Options, NoneType] = \u001b[38;5;28;01mNone\u001b[39;00m,\n",
      "    keep_alive: Union[float, str, NoneType] = \u001b[38;5;28;01mNone\u001b[39;00m,\n",
      ") -> Union[ollama._types.ChatResponse, collections.abc.Iterator[ollama._types.ChatResponse]]\n",
      "\u001b[31mDocstring:\u001b[39m\n",
      "Create a chat response using the requested model.\n",
      "\n",
      "Args:\n",
      "  tools:\n",
      "    A JSON schema as a dict, an Ollama Tool or a Python Function.\n",
      "    Python functions need to follow Google style docstrings to be converted to an Ollama Tool.\n",
      "    For more information, see: https://google.github.io/styleguide/pyguide.html#38-comments-and-docstrings\n",
      "  stream: Whether to stream the response.\n",
      "  format: The format of the response.\n",
      "\n",
      "Example:\n",
      "  def add_two_numbers(a: int, b: int) -> int:\n",
      "    '''\n",
      "    Add two numbers together.\n",
      "\n",
      "    Args:\n",
      "      a: First number to add\n",
      "      b: Second number to add\n",
      "\n",
      "    Returns:\n",
      "      int: The sum of a and b\n",
      "    '''\n",
      "    return a + b\n",
      "\n",
      "  client.chat(model='llama3.2', tools=[add_two_numbers], messages=[...])\n",
      "\n",
      "Raises `RequestError` if a model is not provided.\n",
      "\n",
      "Raises `ResponseError` if the request could not be fulfilled.\n",
      "\n",
      "Returns `ChatResponse` if `stream` is `False`, otherwise returns a `ChatResponse` generator.\n",
      "\u001b[31mFile:\u001b[39m      ~/Desktop/Ollama_working_folder/.venv/lib/python3.12/site-packages/ollama/_client.py\n",
      "\u001b[31mType:\u001b[39m      method"
     ]
    }
   ],
   "source": [
    "ollama.chat?"
   ]
  },
  {
   "cell_type": "code",
   "execution_count": 24,
   "id": "7a0303df",
   "metadata": {},
   "outputs": [
    {
     "data": {
      "text/plain": [
       "ChatResponse(model='llama3.1:latest', created_at='2025-10-21T22:29:24.478605084Z', done=True, done_reason='stop', total_duration=5429286536, load_duration=276700050, prompt_eval_count=17, prompt_eval_duration=1157007777, eval_count=7, eval_duration=3976847690, message=Message(role='assistant', content='The answer is 2.', thinking=None, images=None, tool_name=None, tool_calls=None))"
      ]
     },
     "execution_count": 24,
     "metadata": {},
     "output_type": "execute_result"
    }
   ],
   "source": [
    "#Example - See the usage above it's much easier than documentation sometimes\n",
    "ollama.chat(model=\"llama3.1:latest\", messages=[{\"role\":\"user\", \"content\":\"What is 1+1?\"}], stream=False, format=\"\", #think=\"low\"\n",
    "            \n",
    "            ) "
   ]
  },
  {
   "cell_type": "code",
   "execution_count": 25,
   "id": "361d7171",
   "metadata": {},
   "outputs": [
    {
     "name": "stdout",
     "output_type": "stream",
     "text": [
      "\u001b[31mSignature:\u001b[39m\n",
      "ollama.generate(\n",
      "    model: str = \u001b[33m''\u001b[39m,\n",
      "    prompt: Optional[str] = \u001b[38;5;28;01mNone\u001b[39;00m,\n",
      "    suffix: Optional[str] = \u001b[38;5;28;01mNone\u001b[39;00m,\n",
      "    *,\n",
      "    system: Optional[str] = \u001b[38;5;28;01mNone\u001b[39;00m,\n",
      "    template: Optional[str] = \u001b[38;5;28;01mNone\u001b[39;00m,\n",
      "    context: Optional[Sequence[int]] = \u001b[38;5;28;01mNone\u001b[39;00m,\n",
      "    stream: bool = \u001b[38;5;28;01mFalse\u001b[39;00m,\n",
      "    think: Optional[bool] = \u001b[38;5;28;01mNone\u001b[39;00m,\n",
      "    raw: Optional[bool] = \u001b[38;5;28;01mNone\u001b[39;00m,\n",
      "    format: Union[Literal[\u001b[33m''\u001b[39m, \u001b[33m'json'\u001b[39m], dict[str, Any], NoneType] = \u001b[38;5;28;01mNone\u001b[39;00m,\n",
      "    images: Optional[Sequence[Union[str, bytes, ollama._types.Image]]] = \u001b[38;5;28;01mNone\u001b[39;00m,\n",
      "    options: Union[Mapping[str, Any], ollama._types.Options, NoneType] = \u001b[38;5;28;01mNone\u001b[39;00m,\n",
      "    keep_alive: Union[float, str, NoneType] = \u001b[38;5;28;01mNone\u001b[39;00m,\n",
      ") -> Union[ollama._types.GenerateResponse, collections.abc.Iterator[ollama._types.GenerateResponse]]\n",
      "\u001b[31mDocstring:\u001b[39m\n",
      "Create a response using the requested model.\n",
      "\n",
      "Raises `RequestError` if a model is not provided.\n",
      "\n",
      "Raises `ResponseError` if the request could not be fulfilled.\n",
      "\n",
      "Returns `GenerateResponse` if `stream` is `False`, otherwise returns a `GenerateResponse` generator.\n",
      "\u001b[31mFile:\u001b[39m      ~/Desktop/Ollama_working_folder/.venv/lib/python3.12/site-packages/ollama/_client.py\n",
      "\u001b[31mType:\u001b[39m      method"
     ]
    }
   ],
   "source": [
    "ollama.generate?"
   ]
  },
  {
   "cell_type": "code",
   "execution_count": 26,
   "id": "42526baa",
   "metadata": {},
   "outputs": [
    {
     "data": {
      "text/plain": [
       "GenerateResponse(model='llama3.1:latest', created_at='2025-10-21T22:29:43.164706836Z', done=True, done_reason='stop', total_duration=18648511142, load_duration=279234089, prompt_eval_count=28, prompt_eval_duration=3908962181, eval_count=33, eval_duration=14375121072, response='The sky appears blue because of a phenomenon called scattering, where sunlight scatters shorter (blue) wavelengths more than longer (red) wavelengths, reaching our eyes.', thinking=None, context=[128006, 9125, 128007, 271, 83262, 304, 2753, 1109, 220, 966, 4339, 128009, 128006, 882, 128007, 271, 10445, 374, 279, 13180, 6437, 30, 128009, 128006, 78191, 128007, 271, 791, 13180, 8111, 6437, 1606, 315, 264, 25885, 2663, 72916, 11, 1405, 40120, 1156, 10385, 24210, 320, 12481, 8, 93959, 810, 1109, 5129, 320, 1171, 8, 93959, 11, 19261, 1057, 6548, 13])"
      ]
     },
     "execution_count": 26,
     "metadata": {},
     "output_type": "execute_result"
    }
   ],
   "source": [
    "#Example - See the usage above it's much easier than documentation sometimes - Use when you are simply queryimg the LLM\n",
    "\n",
    "ollama.generate(model = \"llama3.1:latest\",\n",
    "                prompt = \"Why is the sky blue?\",\n",
    "                system=\"Respons in less than 30 words\",\n",
    "                stream=False,\n",
    "                )\n",
    "                "
   ]
  },
  {
   "cell_type": "code",
   "execution_count": 27,
   "id": "2a0a4c4a",
   "metadata": {},
   "outputs": [
    {
     "data": {
      "text/plain": [
       "ShowResponse(modified_at=datetime.datetime(2025, 10, 21, 14, 38, 45, 968310, tzinfo=TzInfo(-14400)), template='{{- if or .System .Tools }}<|start_header_id|>system<|end_header_id|>\\n{{- if .System }}\\n\\n{{ .System }}\\n{{- end }}\\n{{- if .Tools }}\\n\\nCutting Knowledge Date: December 2023\\n\\nWhen you receive a tool call response, use the output to format an answer to the orginal user question.\\n\\nYou are a helpful assistant with tool calling capabilities.\\n{{- end }}<|eot_id|>\\n{{- end }}\\n{{- range $i, $_ := .Messages }}\\n{{- $last := eq (len (slice $.Messages $i)) 1 }}\\n{{- if eq .Role \"user\" }}<|start_header_id|>user<|end_header_id|>\\n{{- if and $.Tools $last }}\\n\\nGiven the following functions, please respond with a JSON for a function call with its proper arguments that best answers the given prompt.\\n\\nRespond in the format {\"name\": function name, \"parameters\": dictionary of argument name and its value}. Do not use variables.\\n\\n{{ range $.Tools }}\\n{{- . }}\\n{{ end }}\\nQuestion: {{ .Content }}<|eot_id|>\\n{{- else }}\\n\\n{{ .Content }}<|eot_id|>\\n{{- end }}{{ if $last }}<|start_header_id|>assistant<|end_header_id|>\\n\\n{{ end }}\\n{{- else if eq .Role \"assistant\" }}<|start_header_id|>assistant<|end_header_id|>\\n{{- if .ToolCalls }}\\n{{ range .ToolCalls }}\\n{\"name\": \"{{ .Function.Name }}\", \"parameters\": {{ .Function.Arguments }}}{{ end }}\\n{{- else }}\\n\\n{{ .Content }}\\n{{- end }}{{ if not $last }}<|eot_id|>{{ end }}\\n{{- else if eq .Role \"tool\" }}<|start_header_id|>ipython<|end_header_id|>\\n\\n{{ .Content }}<|eot_id|>{{ if $last }}<|start_header_id|>assistant<|end_header_id|>\\n\\n{{ end }}\\n{{- end }}\\n{{- end }}', modelfile='# Modelfile generated by \"ollama show\"\\n# To build a new Modelfile based on this, replace FROM with:\\n# FROM llama3.1:latest\\n\\nFROM /home/keerthi/.ollama/models/blobs/sha256-667b0c1932bc6ffc593ed1d03f895bf2dc8dc6df21db3042284a6f4416b06a29\\nTEMPLATE \"\"\"{{- if or .System .Tools }}<|start_header_id|>system<|end_header_id|>\\n{{- if .System }}\\n\\n{{ .System }}\\n{{- end }}\\n{{- if .Tools }}\\n\\nCutting Knowledge Date: December 2023\\n\\nWhen you receive a tool call response, use the output to format an answer to the orginal user question.\\n\\nYou are a helpful assistant with tool calling capabilities.\\n{{- end }}<|eot_id|>\\n{{- end }}\\n{{- range $i, $_ := .Messages }}\\n{{- $last := eq (len (slice $.Messages $i)) 1 }}\\n{{- if eq .Role \"user\" }}<|start_header_id|>user<|end_header_id|>\\n{{- if and $.Tools $last }}\\n\\nGiven the following functions, please respond with a JSON for a function call with its proper arguments that best answers the given prompt.\\n\\nRespond in the format {\"name\": function name, \"parameters\": dictionary of argument name and its value}. Do not use variables.\\n\\n{{ range $.Tools }}\\n{{- . }}\\n{{ end }}\\nQuestion: {{ .Content }}<|eot_id|>\\n{{- else }}\\n\\n{{ .Content }}<|eot_id|>\\n{{- end }}{{ if $last }}<|start_header_id|>assistant<|end_header_id|>\\n\\n{{ end }}\\n{{- else if eq .Role \"assistant\" }}<|start_header_id|>assistant<|end_header_id|>\\n{{- if .ToolCalls }}\\n{{ range .ToolCalls }}\\n{\"name\": \"{{ .Function.Name }}\", \"parameters\": {{ .Function.Arguments }}}{{ end }}\\n{{- else }}\\n\\n{{ .Content }}\\n{{- end }}{{ if not $last }}<|eot_id|>{{ end }}\\n{{- else if eq .Role \"tool\" }}<|start_header_id|>ipython<|end_header_id|>\\n\\n{{ .Content }}<|eot_id|>{{ if $last }}<|start_header_id|>assistant<|end_header_id|>\\n\\n{{ end }}\\n{{- end }}\\n{{- end }}\"\"\"\\nPARAMETER stop <|start_header_id|>\\nPARAMETER stop <|end_header_id|>\\nPARAMETER stop <|eot_id|>\\nLICENSE \"LLAMA 3.1 COMMUNITY LICENSE AGREEMENT\\nLlama 3.1 Version Release Date: July 23, 2024\\n\\n“Agreement” means the terms and conditions for use, reproduction, distribution and modification of the\\nLlama Materials set forth herein.\\n\\n“Documentation” means the specifications, manuals and documentation accompanying Llama 3.1\\ndistributed by Meta at https://llama.meta.com/doc/overview.\\n\\n“Licensee” or “you” means you, or your employer or any other person or entity (if you are entering into\\nthis Agreement on such person or entity’s behalf), of the age required under applicable laws, rules or\\nregulations to provide legal consent and that has legal authority to bind your employer or such other\\nperson or entity if you are entering in this Agreement on their behalf.\\n\\n“Llama 3.1” means the foundational large language models and software and algorithms, including\\nmachine-learning model code, trained model weights, inference-enabling code, training-enabling code,\\nfine-tuning enabling code and other elements of the foregoing distributed by Meta at\\nhttps://llama.meta.com/llama-downloads.\\n\\n“Llama Materials” means, collectively, Meta’s proprietary Llama 3.1 and Documentation (and any\\nportion thereof) made available under this Agreement.\\n\\n“Meta” or “we” means Meta Platforms Ireland Limited (if you are located in or, if you are an entity, your\\nprincipal place of business is in the EEA or Switzerland) and Meta Platforms, Inc. (if you are located\\noutside of the EEA or Switzerland).\\n\\nBy clicking “I Accept” below or by using or distributing any portion or element of the Llama Materials,\\nyou agree to be bound by this Agreement.\\n\\n1. License Rights and Redistribution.\\n\\n  a. Grant of Rights. You are granted a non-exclusive, worldwide, non-transferable and royalty-free\\nlimited license under Meta’s intellectual property or other rights owned by Meta embodied in the Llama\\nMaterials to use, reproduce, distribute, copy, create derivative works of, and make modifications to the\\nLlama Materials.\\n\\n  b. Redistribution and Use.\\n\\n      i. If you distribute or make available the Llama Materials (or any derivative works\\nthereof), or a product or service (including another AI model) that contains any of them, you shall (A)\\nprovide a copy of this Agreement with any such Llama Materials; and (B) prominently display “Built with\\nLlama” on a related website, user interface, blogpost, about page, or product documentation. If you use\\nthe Llama Materials or any outputs or results of the Llama Materials to create, train, fine tune, or\\notherwise improve an AI model, which is distributed or made available, you shall also include “Llama” at\\nthe beginning of any such AI model name.\\n\\n      ii. If you receive Llama Materials, or any derivative works thereof, from a Licensee as part \\nof an integrated end user product, then Section 2 of this Agreement will not apply to you.\\n\\n      iii. You must retain in all copies of the Llama Materials that you distribute the following\\nattribution notice within a “Notice” text file distributed as a part of such copies: “Llama 3.1 is\\nlicensed under the Llama 3.1 Community License, Copyright © Meta Platforms, Inc. All Rights\\nReserved.”\\n\\n      iv. Your use of the Llama Materials must comply with applicable laws and regulations\\n(including trade compliance laws and regulations) and adhere to the Acceptable Use Policy for the Llama\\nMaterials (available at https://llama.meta.com/llama3_1/use-policy), which is hereby incorporated by\\nreference into this Agreement.\\n\\n2. Additional Commercial Terms. If, on the Llama 3.1 version release date, the monthly active users\\nof the products or services made available by or for Licensee, or Licensee’s affiliates, is greater than 700\\nmillion monthly active users in the preceding calendar month, you must request a license from Meta,\\nwhich Meta may grant to you in its sole discretion, and you are not authorized to exercise any of the\\nrights under this Agreement unless or until Meta otherwise expressly grants you such rights.\\n\\n3. Disclaimer of Warranty. UNLESS REQUIRED BY APPLICABLE LAW, THE LLAMA MATERIALS AND ANY\\nOUTPUT AND RESULTS THEREFROM ARE PROVIDED ON AN “AS IS” BASIS, WITHOUT WARRANTIES OF\\nANY KIND, AND META DISCLAIMS ALL WARRANTIES OF ANY KIND, BOTH EXPRESS AND IMPLIED,\\nINCLUDING, WITHOUT LIMITATION, ANY WARRANTIES OF TITLE, NON-INFRINGEMENT,\\nMERCHANTABILITY, OR FITNESS FOR A PARTICULAR PURPOSE. YOU ARE SOLELY RESPONSIBLE FOR\\nDETERMINING THE APPROPRIATENESS OF USING OR REDISTRIBUTING THE LLAMA MATERIALS AND\\nASSUME ANY RISKS ASSOCIATED WITH YOUR USE OF THE LLAMA MATERIALS AND ANY OUTPUT AND\\nRESULTS.\\n\\n4. Limitation of Liability. IN NO EVENT WILL META OR ITS AFFILIATES BE LIABLE UNDER ANY THEORY OF\\nLIABILITY, WHETHER IN CONTRACT, TORT, NEGLIGENCE, PRODUCTS LIABILITY, OR OTHERWISE, ARISING\\nOUT OF THIS AGREEMENT, FOR ANY LOST PROFITS OR ANY INDIRECT, SPECIAL, CONSEQUENTIAL,\\nINCIDENTAL, EXEMPLARY OR PUNITIVE DAMAGES, EVEN IF META OR ITS AFFILIATES HAVE BEEN ADVISED\\nOF THE POSSIBILITY OF ANY OF THE FOREGOING.\\n\\n5. Intellectual Property.\\n\\n  a. No trademark licenses are granted under this Agreement, and in connection with the Llama\\nMaterials, neither Meta nor Licensee may use any name or mark owned by or associated with the other\\nor any of its affiliates, except as required for reasonable and customary use in describing and\\nredistributing the Llama Materials or as set forth in this Section 5(a). Meta hereby grants you a license to\\nuse “Llama” (the “Mark”) solely as required to comply with the last sentence of Section 1.b.i. You will\\ncomply with Meta’s brand guidelines (currently accessible at\\nhttps://about.meta.com/brand/resources/meta/company-brand/ ). All goodwill arising out of your use\\nof the Mark will inure to the benefit of Meta.\\n\\n  b. Subject to Meta’s ownership of Llama Materials and derivatives made by or for Meta, with\\nrespect to any derivative works and modifications of the Llama Materials that are made by you, as\\nbetween you and Meta, you are and will be the owner of such derivative works and modifications.\\n\\n  c. If you institute litigation or other proceedings against Meta or any entity (including a\\ncross-claim or counterclaim in a lawsuit) alleging that the Llama Materials or Llama 3.1 outputs or\\nresults, or any portion of any of the foregoing, constitutes infringement of intellectual property or other\\nrights owned or licensable by you, then any licenses granted to you under this Agreement shall\\nterminate as of the date such litigation or claim is filed or instituted. You will indemnify and hold\\nharmless Meta from and against any claim by any third party arising out of or related to your use or\\ndistribution of the Llama Materials.\\n\\n6. Term and Termination. The term of this Agreement will commence upon your acceptance of this\\nAgreement or access to the Llama Materials and will continue in full force and effect until terminated in\\naccordance with the terms and conditions herein. Meta may terminate this Agreement if you are in\\nbreach of any term or condition of this Agreement. Upon termination of this Agreement, you shall delete\\nand cease use of the Llama Materials. Sections 3, 4 and 7 shall survive the termination of this\\nAgreement.\\n\\n7. Governing Law and Jurisdiction. This Agreement will be governed and construed under the laws of\\nthe State of California without regard to choice of law principles, and the UN Convention on Contracts\\nfor the International Sale of Goods does not apply to this Agreement. The courts of California shall have\\nexclusive jurisdiction of any dispute arising out of this Agreement.\\n\\n# Llama 3.1 Acceptable Use Policy\\n\\nMeta is committed to promoting safe and fair use of its tools and features, including Llama 3.1. If you\\naccess or use Llama 3.1, you agree to this Acceptable Use Policy (“Policy”). The most recent copy of\\nthis policy can be found at [https://llama.meta.com/llama3_1/use-policy](https://llama.meta.com/llama3_1/use-policy)\\n\\n## Prohibited Uses\\n\\nWe want everyone to use Llama 3.1 safely and responsibly. You agree you will not use, or allow\\nothers to use, Llama 3.1 to:\\n\\n1. Violate the law or others’ rights, including to:\\n    1. Engage in, promote, generate, contribute to, encourage, plan, incite, or further illegal or unlawful activity or content, such as:\\n        1. Violence or terrorism\\n        2. Exploitation or harm to children, including the solicitation, creation, acquisition, or dissemination of child exploitative content or failure to report Child Sexual Abuse Material\\n        3. Human trafficking, exploitation, and sexual violence\\n        4. The illegal distribution of information or materials to minors, including obscene materials, or failure to employ legally required age-gating in connection with such information or materials.\\n        5. Sexual solicitation\\n        6. Any other criminal activity\\n    3. Engage in, promote, incite, or facilitate the harassment, abuse, threatening, or bullying of individuals or groups of individuals\\n    4. Engage in, promote, incite, or facilitate discrimination or other unlawful or harmful conduct in the provision of employment, employment benefits, credit, housing, other economic benefits, or other essential goods and services\\n    5. Engage in the unauthorized or unlicensed practice of any profession including, but not limited to, financial, legal, medical/health, or related professional practices\\n    6. Collect, process, disclose, generate, or infer health, demographic, or other sensitive personal or private information about individuals without rights and consents required by applicable laws\\n    7. Engage in or facilitate any action or generate any content that infringes, misappropriates, or otherwise violates any third-party rights, including the outputs or results of any products or services using the Llama Materials\\n    8. Create, generate, or facilitate the creation of malicious code, malware, computer viruses or do anything else that could disable, overburden, interfere with or impair the proper working, integrity, operation or appearance of a website or computer system\\n\\n2. Engage in, promote, incite, facilitate, or assist in the planning or development of activities that present a risk of death or bodily harm to individuals, including use of Llama 3.1 related to the following:\\n    1. Military, warfare, nuclear industries or applications, espionage, use for materials or activities that are subject to the International Traffic Arms Regulations (ITAR) maintained by the United States Department of State\\n    2. Guns and illegal weapons (including weapon development)\\n    3. Illegal drugs and regulated/controlled substances\\n    4. Operation of critical infrastructure, transportation technologies, or heavy machinery\\n    5. Self-harm or harm to others, including suicide, cutting, and eating disorders\\n    6. Any content intended to incite or promote violence, abuse, or any infliction of bodily harm to an individual\\n\\n3. Intentionally deceive or mislead others, including use of Llama 3.1 related to the following:\\n    1. Generating, promoting, or furthering fraud or the creation or promotion of disinformation\\n    2. Generating, promoting, or furthering defamatory content, including the creation of defamatory statements, images, or other content\\n    3. Generating, promoting, or further distributing spam\\n    4. Impersonating another individual without consent, authorization, or legal right\\n    5. Representing that the use of Llama 3.1 or outputs are human-generated\\n    6. Generating or facilitating false online engagement, including fake reviews and other means of fake online engagement\\n\\n4. Fail to appropriately disclose to end users any known dangers of your AI system\\n\\nPlease report any violation of this Policy, software “bug,” or other problems that could lead to a violation\\nof this Policy through one of the following means:\\n\\n* Reporting issues with the model: [https://github.com/meta-llama/llama-models/issues](https://github.com/meta-llama/llama-models/issues)\\n* Reporting risky content generated by the model: developers.facebook.com/llama_output_feedback\\n* Reporting bugs and security concerns: facebook.com/whitehat/info\\n* Reporting violations of the Acceptable Use Policy or unlicensed uses of Llama 3.1: LlamaUseReport@meta.com\"\\n', license='LLAMA 3.1 COMMUNITY LICENSE AGREEMENT\\nLlama 3.1 Version Release Date: July 23, 2024\\n\\n“Agreement” means the terms and conditions for use, reproduction, distribution and modification of the\\nLlama Materials set forth herein.\\n\\n“Documentation” means the specifications, manuals and documentation accompanying Llama 3.1\\ndistributed by Meta at https://llama.meta.com/doc/overview.\\n\\n“Licensee” or “you” means you, or your employer or any other person or entity (if you are entering into\\nthis Agreement on such person or entity’s behalf), of the age required under applicable laws, rules or\\nregulations to provide legal consent and that has legal authority to bind your employer or such other\\nperson or entity if you are entering in this Agreement on their behalf.\\n\\n“Llama 3.1” means the foundational large language models and software and algorithms, including\\nmachine-learning model code, trained model weights, inference-enabling code, training-enabling code,\\nfine-tuning enabling code and other elements of the foregoing distributed by Meta at\\nhttps://llama.meta.com/llama-downloads.\\n\\n“Llama Materials” means, collectively, Meta’s proprietary Llama 3.1 and Documentation (and any\\nportion thereof) made available under this Agreement.\\n\\n“Meta” or “we” means Meta Platforms Ireland Limited (if you are located in or, if you are an entity, your\\nprincipal place of business is in the EEA or Switzerland) and Meta Platforms, Inc. (if you are located\\noutside of the EEA or Switzerland).\\n\\nBy clicking “I Accept” below or by using or distributing any portion or element of the Llama Materials,\\nyou agree to be bound by this Agreement.\\n\\n1. License Rights and Redistribution.\\n\\n  a. Grant of Rights. You are granted a non-exclusive, worldwide, non-transferable and royalty-free\\nlimited license under Meta’s intellectual property or other rights owned by Meta embodied in the Llama\\nMaterials to use, reproduce, distribute, copy, create derivative works of, and make modifications to the\\nLlama Materials.\\n\\n  b. Redistribution and Use.\\n\\n      i. If you distribute or make available the Llama Materials (or any derivative works\\nthereof), or a product or service (including another AI model) that contains any of them, you shall (A)\\nprovide a copy of this Agreement with any such Llama Materials; and (B) prominently display “Built with\\nLlama” on a related website, user interface, blogpost, about page, or product documentation. If you use\\nthe Llama Materials or any outputs or results of the Llama Materials to create, train, fine tune, or\\notherwise improve an AI model, which is distributed or made available, you shall also include “Llama” at\\nthe beginning of any such AI model name.\\n\\n      ii. If you receive Llama Materials, or any derivative works thereof, from a Licensee as part \\nof an integrated end user product, then Section 2 of this Agreement will not apply to you.\\n\\n      iii. You must retain in all copies of the Llama Materials that you distribute the following\\nattribution notice within a “Notice” text file distributed as a part of such copies: “Llama 3.1 is\\nlicensed under the Llama 3.1 Community License, Copyright © Meta Platforms, Inc. All Rights\\nReserved.”\\n\\n      iv. Your use of the Llama Materials must comply with applicable laws and regulations\\n(including trade compliance laws and regulations) and adhere to the Acceptable Use Policy for the Llama\\nMaterials (available at https://llama.meta.com/llama3_1/use-policy), which is hereby incorporated by\\nreference into this Agreement.\\n\\n2. Additional Commercial Terms. If, on the Llama 3.1 version release date, the monthly active users\\nof the products or services made available by or for Licensee, or Licensee’s affiliates, is greater than 700\\nmillion monthly active users in the preceding calendar month, you must request a license from Meta,\\nwhich Meta may grant to you in its sole discretion, and you are not authorized to exercise any of the\\nrights under this Agreement unless or until Meta otherwise expressly grants you such rights.\\n\\n3. Disclaimer of Warranty. UNLESS REQUIRED BY APPLICABLE LAW, THE LLAMA MATERIALS AND ANY\\nOUTPUT AND RESULTS THEREFROM ARE PROVIDED ON AN “AS IS” BASIS, WITHOUT WARRANTIES OF\\nANY KIND, AND META DISCLAIMS ALL WARRANTIES OF ANY KIND, BOTH EXPRESS AND IMPLIED,\\nINCLUDING, WITHOUT LIMITATION, ANY WARRANTIES OF TITLE, NON-INFRINGEMENT,\\nMERCHANTABILITY, OR FITNESS FOR A PARTICULAR PURPOSE. YOU ARE SOLELY RESPONSIBLE FOR\\nDETERMINING THE APPROPRIATENESS OF USING OR REDISTRIBUTING THE LLAMA MATERIALS AND\\nASSUME ANY RISKS ASSOCIATED WITH YOUR USE OF THE LLAMA MATERIALS AND ANY OUTPUT AND\\nRESULTS.\\n\\n4. Limitation of Liability. IN NO EVENT WILL META OR ITS AFFILIATES BE LIABLE UNDER ANY THEORY OF\\nLIABILITY, WHETHER IN CONTRACT, TORT, NEGLIGENCE, PRODUCTS LIABILITY, OR OTHERWISE, ARISING\\nOUT OF THIS AGREEMENT, FOR ANY LOST PROFITS OR ANY INDIRECT, SPECIAL, CONSEQUENTIAL,\\nINCIDENTAL, EXEMPLARY OR PUNITIVE DAMAGES, EVEN IF META OR ITS AFFILIATES HAVE BEEN ADVISED\\nOF THE POSSIBILITY OF ANY OF THE FOREGOING.\\n\\n5. Intellectual Property.\\n\\n  a. No trademark licenses are granted under this Agreement, and in connection with the Llama\\nMaterials, neither Meta nor Licensee may use any name or mark owned by or associated with the other\\nor any of its affiliates, except as required for reasonable and customary use in describing and\\nredistributing the Llama Materials or as set forth in this Section 5(a). Meta hereby grants you a license to\\nuse “Llama” (the “Mark”) solely as required to comply with the last sentence of Section 1.b.i. You will\\ncomply with Meta’s brand guidelines (currently accessible at\\nhttps://about.meta.com/brand/resources/meta/company-brand/ ). All goodwill arising out of your use\\nof the Mark will inure to the benefit of Meta.\\n\\n  b. Subject to Meta’s ownership of Llama Materials and derivatives made by or for Meta, with\\nrespect to any derivative works and modifications of the Llama Materials that are made by you, as\\nbetween you and Meta, you are and will be the owner of such derivative works and modifications.\\n\\n  c. If you institute litigation or other proceedings against Meta or any entity (including a\\ncross-claim or counterclaim in a lawsuit) alleging that the Llama Materials or Llama 3.1 outputs or\\nresults, or any portion of any of the foregoing, constitutes infringement of intellectual property or other\\nrights owned or licensable by you, then any licenses granted to you under this Agreement shall\\nterminate as of the date such litigation or claim is filed or instituted. You will indemnify and hold\\nharmless Meta from and against any claim by any third party arising out of or related to your use or\\ndistribution of the Llama Materials.\\n\\n6. Term and Termination. The term of this Agreement will commence upon your acceptance of this\\nAgreement or access to the Llama Materials and will continue in full force and effect until terminated in\\naccordance with the terms and conditions herein. Meta may terminate this Agreement if you are in\\nbreach of any term or condition of this Agreement. Upon termination of this Agreement, you shall delete\\nand cease use of the Llama Materials. Sections 3, 4 and 7 shall survive the termination of this\\nAgreement.\\n\\n7. Governing Law and Jurisdiction. This Agreement will be governed and construed under the laws of\\nthe State of California without regard to choice of law principles, and the UN Convention on Contracts\\nfor the International Sale of Goods does not apply to this Agreement. The courts of California shall have\\nexclusive jurisdiction of any dispute arising out of this Agreement.\\n\\n# Llama 3.1 Acceptable Use Policy\\n\\nMeta is committed to promoting safe and fair use of its tools and features, including Llama 3.1. If you\\naccess or use Llama 3.1, you agree to this Acceptable Use Policy (“Policy”). The most recent copy of\\nthis policy can be found at [https://llama.meta.com/llama3_1/use-policy](https://llama.meta.com/llama3_1/use-policy)\\n\\n## Prohibited Uses\\n\\nWe want everyone to use Llama 3.1 safely and responsibly. You agree you will not use, or allow\\nothers to use, Llama 3.1 to:\\n\\n1. Violate the law or others’ rights, including to:\\n    1. Engage in, promote, generate, contribute to, encourage, plan, incite, or further illegal or unlawful activity or content, such as:\\n        1. Violence or terrorism\\n        2. Exploitation or harm to children, including the solicitation, creation, acquisition, or dissemination of child exploitative content or failure to report Child Sexual Abuse Material\\n        3. Human trafficking, exploitation, and sexual violence\\n        4. The illegal distribution of information or materials to minors, including obscene materials, or failure to employ legally required age-gating in connection with such information or materials.\\n        5. Sexual solicitation\\n        6. Any other criminal activity\\n    3. Engage in, promote, incite, or facilitate the harassment, abuse, threatening, or bullying of individuals or groups of individuals\\n    4. Engage in, promote, incite, or facilitate discrimination or other unlawful or harmful conduct in the provision of employment, employment benefits, credit, housing, other economic benefits, or other essential goods and services\\n    5. Engage in the unauthorized or unlicensed practice of any profession including, but not limited to, financial, legal, medical/health, or related professional practices\\n    6. Collect, process, disclose, generate, or infer health, demographic, or other sensitive personal or private information about individuals without rights and consents required by applicable laws\\n    7. Engage in or facilitate any action or generate any content that infringes, misappropriates, or otherwise violates any third-party rights, including the outputs or results of any products or services using the Llama Materials\\n    8. Create, generate, or facilitate the creation of malicious code, malware, computer viruses or do anything else that could disable, overburden, interfere with or impair the proper working, integrity, operation or appearance of a website or computer system\\n\\n2. Engage in, promote, incite, facilitate, or assist in the planning or development of activities that present a risk of death or bodily harm to individuals, including use of Llama 3.1 related to the following:\\n    1. Military, warfare, nuclear industries or applications, espionage, use for materials or activities that are subject to the International Traffic Arms Regulations (ITAR) maintained by the United States Department of State\\n    2. Guns and illegal weapons (including weapon development)\\n    3. Illegal drugs and regulated/controlled substances\\n    4. Operation of critical infrastructure, transportation technologies, or heavy machinery\\n    5. Self-harm or harm to others, including suicide, cutting, and eating disorders\\n    6. Any content intended to incite or promote violence, abuse, or any infliction of bodily harm to an individual\\n\\n3. Intentionally deceive or mislead others, including use of Llama 3.1 related to the following:\\n    1. Generating, promoting, or furthering fraud or the creation or promotion of disinformation\\n    2. Generating, promoting, or furthering defamatory content, including the creation of defamatory statements, images, or other content\\n    3. Generating, promoting, or further distributing spam\\n    4. Impersonating another individual without consent, authorization, or legal right\\n    5. Representing that the use of Llama 3.1 or outputs are human-generated\\n    6. Generating or facilitating false online engagement, including fake reviews and other means of fake online engagement\\n\\n4. Fail to appropriately disclose to end users any known dangers of your AI system\\n\\nPlease report any violation of this Policy, software “bug,” or other problems that could lead to a violation\\nof this Policy through one of the following means:\\n\\n* Reporting issues with the model: [https://github.com/meta-llama/llama-models/issues](https://github.com/meta-llama/llama-models/issues)\\n* Reporting risky content generated by the model: developers.facebook.com/llama_output_feedback\\n* Reporting bugs and security concerns: facebook.com/whitehat/info\\n* Reporting violations of the Acceptable Use Policy or unlicensed uses of Llama 3.1: LlamaUseReport@meta.com', details=ModelDetails(parent_model='', format='gguf', family='llama', families=['llama'], parameter_size='8.0B', quantization_level='Q4_K_M'), modelinfo={'general.architecture': 'llama', 'general.basename': 'Meta-Llama-3.1', 'general.file_type': 15, 'general.finetune': 'Instruct', 'general.languages': None, 'general.license': 'llama3.1', 'general.parameter_count': 8030261312, 'general.quantization_version': 2, 'general.size_label': '8B', 'general.tags': None, 'general.type': 'model', 'llama.attention.head_count': 32, 'llama.attention.head_count_kv': 8, 'llama.attention.layer_norm_rms_epsilon': 1e-05, 'llama.block_count': 32, 'llama.context_length': 131072, 'llama.embedding_length': 4096, 'llama.feed_forward_length': 14336, 'llama.rope.dimension_count': 128, 'llama.rope.freq_base': 500000, 'llama.vocab_size': 128256, 'tokenizer.ggml.bos_token_id': 128000, 'tokenizer.ggml.eos_token_id': 128009, 'tokenizer.ggml.merges': None, 'tokenizer.ggml.model': 'gpt2', 'tokenizer.ggml.pre': 'llama-bpe', 'tokenizer.ggml.token_type': None, 'tokenizer.ggml.tokens': None}, parameters='stop                           \"<|start_header_id|>\"\\nstop                           \"<|end_header_id|>\"\\nstop                           \"<|eot_id|>\"', capabilities=['completion', 'tools'])"
      ]
     },
     "execution_count": 27,
     "metadata": {},
     "output_type": "execute_result"
    }
   ],
   "source": [
    "ollama.show(\"llama3.1:latest\")"
   ]
  },
  {
   "cell_type": "code",
   "execution_count": 28,
   "id": "a864de20",
   "metadata": {},
   "outputs": [],
   "source": [
    "from ollama import Client\n",
    "\n",
    "client = Client('http://localhost:11434') #One can pass the same args as in httpx.client"
   ]
  },
  {
   "cell_type": "code",
   "execution_count": 29,
   "id": "e890421e",
   "metadata": {},
   "outputs": [
    {
     "name": "stdout",
     "output_type": "stream",
     "text": [
      "\u001b[31mSignature:\u001b[39m\n",
      "ollama.create(\n",
      "    model: str,\n",
      "    quantize: Optional[str] = \u001b[38;5;28;01mNone\u001b[39;00m,\n",
      "    from_: Optional[str] = \u001b[38;5;28;01mNone\u001b[39;00m,\n",
      "    files: Optional[Dict[str, str]] = \u001b[38;5;28;01mNone\u001b[39;00m,\n",
      "    adapters: Optional[Dict[str, str]] = \u001b[38;5;28;01mNone\u001b[39;00m,\n",
      "    template: Optional[str] = \u001b[38;5;28;01mNone\u001b[39;00m,\n",
      "    license: Union[str, List[str], NoneType] = \u001b[38;5;28;01mNone\u001b[39;00m,\n",
      "    system: Optional[str] = \u001b[38;5;28;01mNone\u001b[39;00m,\n",
      "    parameters: Union[Mapping[str, Any], ollama._types.Options, NoneType] = \u001b[38;5;28;01mNone\u001b[39;00m,\n",
      "    messages: Optional[Sequence[Union[Mapping[str, Any], ollama._types.Message]]] = \u001b[38;5;28;01mNone\u001b[39;00m,\n",
      "    *,\n",
      "    stream: bool = \u001b[38;5;28;01mFalse\u001b[39;00m,\n",
      ") -> Union[ollama._types.ProgressResponse, collections.abc.Iterator[ollama._types.ProgressResponse]]\n",
      "\u001b[31mDocstring:\u001b[39m\n",
      "Raises `ResponseError` if the request could not be fulfilled.\n",
      "\n",
      "Returns `ProgressResponse` if `stream` is `False`, otherwise returns a `ProgressResponse` generator.\n",
      "\u001b[31mFile:\u001b[39m      ~/Desktop/Ollama_working_folder/.venv/lib/python3.12/site-packages/ollama/_client.py\n",
      "\u001b[31mType:\u001b[39m      method"
     ]
    }
   ],
   "source": [
    "#To create a new custom model\n",
    "\n",
    "ollama.create?"
   ]
  },
  {
   "cell_type": "code",
   "execution_count": 30,
   "id": "0719b37c",
   "metadata": {},
   "outputs": [
    {
     "name": "stdout",
     "output_type": "stream",
     "text": [
      "\u001b[31mSignature:\u001b[39m\n",
      "ollama.embed(\n",
      "    model: str = \u001b[33m''\u001b[39m,\n",
      "    input: Union[str, Sequence[str]] = \u001b[33m''\u001b[39m,\n",
      "    truncate: Optional[bool] = \u001b[38;5;28;01mNone\u001b[39;00m,\n",
      "    options: Union[Mapping[str, Any], ollama._types.Options, NoneType] = \u001b[38;5;28;01mNone\u001b[39;00m,\n",
      "    keep_alive: Union[float, str, NoneType] = \u001b[38;5;28;01mNone\u001b[39;00m,\n",
      "    dimensions: Optional[int] = \u001b[38;5;28;01mNone\u001b[39;00m,\n",
      ") -> ollama._types.EmbedResponse\n",
      "\u001b[31mDocstring:\u001b[39m <no docstring>\n",
      "\u001b[31mFile:\u001b[39m      ~/Desktop/Ollama_working_folder/.venv/lib/python3.12/site-packages/ollama/_client.py\n",
      "\u001b[31mType:\u001b[39m      method"
     ]
    }
   ],
   "source": [
    "ollama.embed?"
   ]
  }
 ],
 "metadata": {
  "kernelspec": {
   "display_name": ".venv",
   "language": "python",
   "name": "python3"
  },
  "language_info": {
   "codemirror_mode": {
    "name": "ipython",
    "version": 3
   },
   "file_extension": ".py",
   "mimetype": "text/x-python",
   "name": "python",
   "nbconvert_exporter": "python",
   "pygments_lexer": "ipython3",
   "version": "3.12.3"
  }
 },
 "nbformat": 4,
 "nbformat_minor": 5
}
